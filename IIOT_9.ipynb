{
  "cells": [
    {
      "cell_type": "code",
      "execution_count": null,
      "id": "bd6ace60",
      "metadata": {
        "id": "bd6ace60"
      },
      "outputs": [],
      "source": [
        "import hashlib  # For hashing to ensure data integrity\n",
        "from cryptography.fernet import Fernet  # For encryption\n",
        "import random  # For simulating sensor data\n",
        "import numpy as np"
      ]
    },
    {
      "cell_type": "code",
      "execution_count": null,
      "id": "2d36fa96",
      "metadata": {
        "id": "2d36fa96"
      },
      "outputs": [],
      "source": [
        "key = Fernet.generate_key()\n",
        "cipher = Fernet(key)"
      ]
    },
    {
      "cell_type": "code",
      "execution_count": null,
      "id": "0a15b9bd",
      "metadata": {
        "colab": {
          "base_uri": "https://localhost:8080/"
        },
        "id": "0a15b9bd",
        "outputId": "c945816c-cf97-4683-823c-74ba3240051b"
      },
      "outputs": [
        {
          "name": "stdout",
          "output_type": "stream",
          "text": [
            "Original Temperature :  39\n"
          ]
        }
      ],
      "source": [
        "temp = np.random.randint(30,60)\n",
        "print(\"Original Temperature : \", temp)"
      ]
    },
    {
      "cell_type": "code",
      "execution_count": null,
      "id": "b4bf9d0f",
      "metadata": {
        "colab": {
          "base_uri": "https://localhost:8080/"
        },
        "id": "b4bf9d0f",
        "outputId": "c69bcaa0-be5a-45bb-e398-740bb33807f5"
      },
      "outputs": [
        {
          "name": "stdout",
          "output_type": "stream",
          "text": [
            "Encrypted Temperature:  b'gAAAAABnK3dOFVD_y1XNW06fZAcAYcMnVa85vu3oHtSpaKau_RPs7-RBVahziz6e5L39VkvjIDEhnCaUGH4cCDj2zze1H46reA=='\n"
          ]
        }
      ],
      "source": [
        "enc = cipher.encrypt(str(temp).encode())\n",
        "print(\"Encrypted Temperature: \",enc)"
      ]
    },
    {
      "cell_type": "code",
      "execution_count": null,
      "id": "4a4c401c",
      "metadata": {
        "colab": {
          "base_uri": "https://localhost:8080/"
        },
        "id": "4a4c401c",
        "outputId": "917b1a64-dbe6-4312-abec-f54b9a02bc72"
      },
      "outputs": [
        {
          "name": "stdout",
          "output_type": "stream",
          "text": [
            "Decrypted Temperature:  39\n"
          ]
        }
      ],
      "source": [
        "dec = cipher.decrypt(enc).decode()\n",
        "print(\"Decrypted Temperature: \",dec)"
      ]
    },
    {
      "cell_type": "code",
      "execution_count": null,
      "id": "13d687fb",
      "metadata": {
        "colab": {
          "base_uri": "https://localhost:8080/"
        },
        "id": "13d687fb",
        "outputId": "d31bd7c5-bd16-424f-be17-a8637cf57088"
      },
      "outputs": [
        {
          "name": "stdout",
          "output_type": "stream",
          "text": [
            "Data Integrity is verified\n"
          ]
        }
      ],
      "source": [
        "original_hash = hash(str(temp))\n",
        "decrypted_hash = hash(dec)\n",
        "\n",
        "if original_hash == decrypted_hash:\n",
        "    print(\"Data Integrity is verified\")\n",
        "else:\n",
        "    print(\"Data Integrity is not verified\")"
      ]
    },
    {
      "cell_type": "code",
      "execution_count": null,
      "id": "1218fdb4",
      "metadata": {
        "id": "1218fdb4"
      },
      "outputs": [],
      "source": []
    }
  ],
  "metadata": {
    "colab": {
      "provenance": []
    },
    "kernelspec": {
      "display_name": "Python 3",
      "language": "python",
      "name": "python3"
    },
    "language_info": {
      "codemirror_mode": {
        "name": "ipython",
        "version": 3
      },
      "file_extension": ".py",
      "mimetype": "text/x-python",
      "name": "python",
      "nbconvert_exporter": "python",
      "pygments_lexer": "ipython3",
      "version": "3.11.0"
    }
  },
  "nbformat": 4,
  "nbformat_minor": 5
}